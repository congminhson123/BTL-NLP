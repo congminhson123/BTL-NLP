{
 "cells": [
  {
   "cell_type": "code",
   "execution_count": 1,
   "metadata": {},
   "outputs": [],
   "source": [
    "import pandas as pd\n",
    "import numpy as np\n",
    "import os\n",
    "from sklearn.datasets import load_files\n",
    "import re"
   ]
  },
  {
   "cell_type": "code",
   "execution_count": 2,
   "metadata": {},
   "outputs": [],
   "source": [
    "train_path = r\"C:\\Users\\acer\\Documents\\hoc tap\\NLP pj\\20news-bydate-train\"\n",
    "test_path = r\"C:\\Users\\acer\\Documents\\hoc tap\\NLP pj\\20news-bydate-test\"\n",
    "\n"
   ]
  },
  {
   "cell_type": "code",
   "execution_count": 3,
   "metadata": {},
   "outputs": [
    {
     "data": {
      "text/plain": [
       "['alt.atheism',\n",
       " 'comp.graphics',\n",
       " 'comp.os.ms-windows.misc',\n",
       " 'comp.sys.ibm.pc.hardware',\n",
       " 'comp.sys.mac.hardware',\n",
       " 'comp.windows.x',\n",
       " 'misc.forsale',\n",
       " 'rec.autos',\n",
       " 'rec.motorcycles',\n",
       " 'rec.sport.baseball',\n",
       " 'rec.sport.hockey',\n",
       " 'sci.crypt',\n",
       " 'sci.electronics',\n",
       " 'sci.med',\n",
       " 'sci.space',\n",
       " 'soc.religion.christian',\n",
       " 'talk.politics.guns',\n",
       " 'talk.politics.mideast',\n",
       " 'talk.politics.misc',\n",
       " 'talk.religion.misc']"
      ]
     },
     "execution_count": 3,
     "metadata": {},
     "output_type": "execute_result"
    }
   ],
   "source": [
    "folders = sorted(os.listdir(train_path))\n",
    "folders"
   ]
  },
  {
   "cell_type": "code",
   "execution_count": 4,
   "metadata": {},
   "outputs": [
    {
     "name": "stdout",
     "output_type": "stream",
     "text": [
      "480\n"
     ]
    }
   ],
   "source": [
    "train_data = {}\n",
    "for folder in folders: \n",
    "    train_data[folder] = []\n",
    "    for doc in os.listdir(os.path.join(train_path, folder)):\n",
    "        with open(os.path.join(train_path, folder, doc), encoding = 'latin-1') as opened_file:\n",
    "            train_data[folder].append(opened_file.read())\n",
    "print(len(train_data[folders[0]]))"
   ]
  },
  {
   "cell_type": "code",
   "execution_count": 5,
   "metadata": {},
   "outputs": [
    {
     "name": "stdout",
     "output_type": "stream",
     "text": [
      "319\n"
     ]
    }
   ],
   "source": [
    "test_data = {}\n",
    "for folder in folders: \n",
    "    test_data[folder] = []\n",
    "    for doc in os.listdir(os.path.join(test_path, folder)):\n",
    "        with open(os.path.join(test_path, folder, doc), encoding = 'latin-1') as opened_file:\n",
    "            test_data[folder].append(opened_file.read())\n",
    "print(len(test_data[folders[0]]))"
   ]
  },
  {
   "cell_type": "code",
   "execution_count": 6,
   "metadata": {},
   "outputs": [],
   "source": [
    "import nltk\n",
    "from string import punctuation \n",
    "punctuations=list(punctuation)\n",
    "stopwords = list(line.strip() for line in open(r\"C:\\Users\\acer\\Documents\\hoc tap\\NLP pj\\nltk_data\\corpora\\stopwords\\english\",encoding=\"utf8\"))\n",
    "\n",
    "for item in punctuations:\n",
    "    stopwords.append(item)"
   ]
  },
  {
   "cell_type": "code",
   "execution_count": 7,
   "metadata": {},
   "outputs": [
    {
     "data": {
      "text/plain": [
       "['i',\n",
       " 'me',\n",
       " 'my',\n",
       " 'myself',\n",
       " 'we',\n",
       " 'our',\n",
       " 'ours',\n",
       " 'ourselves',\n",
       " 'you',\n",
       " \"you're\",\n",
       " \"you've\",\n",
       " \"you'll\",\n",
       " \"you'd\",\n",
       " 'your',\n",
       " 'yours',\n",
       " 'yourself',\n",
       " 'yourselves',\n",
       " 'he',\n",
       " 'him',\n",
       " 'his',\n",
       " 'himself',\n",
       " 'she',\n",
       " \"she's\",\n",
       " 'her',\n",
       " 'hers',\n",
       " 'herself',\n",
       " 'it',\n",
       " \"it's\",\n",
       " 'its',\n",
       " 'itself',\n",
       " 'they',\n",
       " 'them',\n",
       " 'their',\n",
       " 'theirs',\n",
       " 'themselves',\n",
       " 'what',\n",
       " 'which',\n",
       " 'who',\n",
       " 'whom',\n",
       " 'this',\n",
       " 'that',\n",
       " \"that'll\",\n",
       " 'these',\n",
       " 'those',\n",
       " 'am',\n",
       " 'is',\n",
       " 'are',\n",
       " 'was',\n",
       " 'were',\n",
       " 'be',\n",
       " 'been',\n",
       " 'being',\n",
       " 'have',\n",
       " 'has',\n",
       " 'had',\n",
       " 'having',\n",
       " 'do',\n",
       " 'does',\n",
       " 'did',\n",
       " 'doing',\n",
       " 'a',\n",
       " 'an',\n",
       " 'the',\n",
       " 'and',\n",
       " 'but',\n",
       " 'if',\n",
       " 'or',\n",
       " 'because',\n",
       " 'as',\n",
       " 'until',\n",
       " 'while',\n",
       " 'of',\n",
       " 'at',\n",
       " 'by',\n",
       " 'for',\n",
       " 'with',\n",
       " 'about',\n",
       " 'against',\n",
       " 'between',\n",
       " 'into',\n",
       " 'through',\n",
       " 'during',\n",
       " 'before',\n",
       " 'after',\n",
       " 'above',\n",
       " 'below',\n",
       " 'to',\n",
       " 'from',\n",
       " 'up',\n",
       " 'down',\n",
       " 'in',\n",
       " 'out',\n",
       " 'on',\n",
       " 'off',\n",
       " 'over',\n",
       " 'under',\n",
       " 'again',\n",
       " 'further',\n",
       " 'then',\n",
       " 'once',\n",
       " 'here',\n",
       " 'there',\n",
       " 'when',\n",
       " 'where',\n",
       " 'why',\n",
       " 'how',\n",
       " 'all',\n",
       " 'any',\n",
       " 'both',\n",
       " 'each',\n",
       " 'few',\n",
       " 'more',\n",
       " 'most',\n",
       " 'other',\n",
       " 'some',\n",
       " 'such',\n",
       " 'no',\n",
       " 'nor',\n",
       " 'not',\n",
       " 'only',\n",
       " 'own',\n",
       " 'same',\n",
       " 'so',\n",
       " 'than',\n",
       " 'too',\n",
       " 'very',\n",
       " 's',\n",
       " 't',\n",
       " 'can',\n",
       " 'will',\n",
       " 'just',\n",
       " 'don',\n",
       " \"don't\",\n",
       " 'should',\n",
       " \"should've\",\n",
       " 'now',\n",
       " 'd',\n",
       " 'll',\n",
       " 'm',\n",
       " 'o',\n",
       " 're',\n",
       " 've',\n",
       " 'y',\n",
       " 'ain',\n",
       " 'aren',\n",
       " \"aren't\",\n",
       " 'couldn',\n",
       " \"couldn't\",\n",
       " 'didn',\n",
       " \"didn't\",\n",
       " 'doesn',\n",
       " \"doesn't\",\n",
       " 'hadn',\n",
       " \"hadn't\",\n",
       " 'hasn',\n",
       " \"hasn't\",\n",
       " 'haven',\n",
       " \"haven't\",\n",
       " 'isn',\n",
       " \"isn't\",\n",
       " 'ma',\n",
       " 'mightn',\n",
       " \"mightn't\",\n",
       " 'mustn',\n",
       " \"mustn't\",\n",
       " 'needn',\n",
       " \"needn't\",\n",
       " 'shan',\n",
       " \"shan't\",\n",
       " 'shouldn',\n",
       " \"shouldn't\",\n",
       " 'wasn',\n",
       " \"wasn't\",\n",
       " 'weren',\n",
       " \"weren't\",\n",
       " 'won',\n",
       " \"won't\",\n",
       " 'wouldn',\n",
       " \"wouldn't\",\n",
       " '!',\n",
       " '\"',\n",
       " '#',\n",
       " '$',\n",
       " '%',\n",
       " '&',\n",
       " \"'\",\n",
       " '(',\n",
       " ')',\n",
       " '*',\n",
       " '+',\n",
       " ',',\n",
       " '-',\n",
       " '.',\n",
       " '/',\n",
       " ':',\n",
       " ';',\n",
       " '<',\n",
       " '=',\n",
       " '>',\n",
       " '?',\n",
       " '@',\n",
       " '[',\n",
       " '\\\\',\n",
       " ']',\n",
       " '^',\n",
       " '_',\n",
       " '`',\n",
       " '{',\n",
       " '|',\n",
       " '}',\n",
       " '~']"
      ]
     },
     "execution_count": 7,
     "metadata": {},
     "output_type": "execute_result"
    }
   ],
   "source": [
    "stopwords"
   ]
  },
  {
   "cell_type": "code",
   "execution_count": null,
   "metadata": {},
   "outputs": [],
   "source": []
  },
  {
   "cell_type": "code",
   "execution_count": 8,
   "metadata": {},
   "outputs": [],
   "source": [
    "new_stopwords = ['subject:','from:', 'date:', 'newsgroups:', 'message-id:', 'lines:', 'path:', 'organization:', \n",
    "            'would', 'writes:', 'references:', 'article', 'sender:', 'nntp-posting-host:', 'people', \n",
    "            'university', 'think', 'xref:', 'cantaloupe.srv.cs.cmu.edu', 'could', 'distribution:', 'first', \n",
    "            'anyone','world', 'really', 'since', 'right', 'believe', 'still']\n",
    "stopwords.append(item)"
   ]
  },
  {
   "cell_type": "code",
   "execution_count": 9,
   "metadata": {},
   "outputs": [
    {
     "name": "stdout",
     "output_type": "stream",
     "text": [
      "['i', 'me', 'my', 'myself', 'we', 'our', 'ours', 'ourselves', 'you', \"you're\", \"you've\", \"you'll\", \"you'd\", 'your', 'yours', 'yourself', 'yourselves', 'he', 'him', 'his', 'himself', 'she', \"she's\", 'her', 'hers', 'herself', 'it', \"it's\", 'its', 'itself', 'they', 'them', 'their', 'theirs', 'themselves', 'what', 'which', 'who', 'whom', 'this', 'that', \"that'll\", 'these', 'those', 'am', 'is', 'are', 'was', 'were', 'be', 'been', 'being', 'have', 'has', 'had', 'having', 'do', 'does', 'did', 'doing', 'a', 'an', 'the', 'and', 'but', 'if', 'or', 'because', 'as', 'until', 'while', 'of', 'at', 'by', 'for', 'with', 'about', 'against', 'between', 'into', 'through', 'during', 'before', 'after', 'above', 'below', 'to', 'from', 'up', 'down', 'in', 'out', 'on', 'off', 'over', 'under', 'again', 'further', 'then', 'once', 'here', 'there', 'when', 'where', 'why', 'how', 'all', 'any', 'both', 'each', 'few', 'more', 'most', 'other', 'some', 'such', 'no', 'nor', 'not', 'only', 'own', 'same', 'so', 'than', 'too', 'very', 's', 't', 'can', 'will', 'just', 'don', \"don't\", 'should', \"should've\", 'now', 'd', 'll', 'm', 'o', 're', 've', 'y', 'ain', 'aren', \"aren't\", 'couldn', \"couldn't\", 'didn', \"didn't\", 'doesn', \"doesn't\", 'hadn', \"hadn't\", 'hasn', \"hasn't\", 'haven', \"haven't\", 'isn', \"isn't\", 'ma', 'mightn', \"mightn't\", 'mustn', \"mustn't\", 'needn', \"needn't\", 'shan', \"shan't\", 'shouldn', \"shouldn't\", 'wasn', \"wasn't\", 'weren', \"weren't\", 'won', \"won't\", 'wouldn', \"wouldn't\", '!', '\"', '#', '$', '%', '&', \"'\", '(', ')', '*', '+', ',', '-', '.', '/', ':', ';', '<', '=', '>', '?', '@', '[', '\\\\', ']', '^', '_', '`', '{', '|', '}', '~', '~']\n"
     ]
    }
   ],
   "source": [
    "print(stopwords)"
   ]
  },
  {
   "cell_type": "code",
   "execution_count": null,
   "metadata": {},
   "outputs": [],
   "source": []
  },
  {
   "cell_type": "code",
   "execution_count": null,
   "metadata": {
    "scrolled": true
   },
   "outputs": [],
   "source": []
  },
  {
   "cell_type": "code",
   "execution_count": 10,
   "metadata": {},
   "outputs": [],
   "source": [
    "Y_train = []\n",
    "for i in range(len(train_data)):\n",
    "    for doc in train_data[folders[i]]:\n",
    "        Y_train.append(folders[i])\n",
    "\n",
    "Y_train = np.array(Y_train)\n"
   ]
  },
  {
   "cell_type": "code",
   "execution_count": null,
   "metadata": {},
   "outputs": [],
   "source": []
  },
  {
   "cell_type": "code",
   "execution_count": 11,
   "metadata": {},
   "outputs": [],
   "source": [
    "Y_test = []\n",
    "for i in range(len(test_data)):\n",
    "    for doc in test_data[folders[i]]:\n",
    "        Y_test.append(folders[i])\n",
    "\n",
    "Y_test = np.array(Y_test)"
   ]
  },
  {
   "cell_type": "code",
   "execution_count": null,
   "metadata": {},
   "outputs": [],
   "source": [
    "\n"
   ]
  },
  {
   "cell_type": "code",
   "execution_count": null,
   "metadata": {},
   "outputs": [],
   "source": []
  },
  {
   "cell_type": "code",
   "execution_count": 12,
   "metadata": {},
   "outputs": [],
   "source": [
    "from nltk.tokenize import word_tokenize\n"
   ]
  },
  {
   "cell_type": "code",
   "execution_count": 13,
   "metadata": {},
   "outputs": [],
   "source": [
    "X_train = []\n",
    "for folder in train_data:\n",
    "    for doc in train_data[folder]:\n",
    "        tokenized_doc = word_tokenize(doc)\n",
    "        newdoc = []\n",
    "        for word in tokenized_doc:\n",
    "             if len(word) < 21 and len(word) > 1:\n",
    "                if any(c.isdigit() for c in word): #or c == \"_\"\n",
    "                    newdoc.append('0')\n",
    "                    continue\n",
    "                if word.lower() not in stopwords:\n",
    "                    newword = re.sub(r'[^A-Za-z]+', '', word.lower())\n",
    "                    newdoc.append(newword.lower())\n",
    "        X_train.append(newdoc)\n"
   ]
  },
  {
   "cell_type": "code",
   "execution_count": 14,
   "metadata": {},
   "outputs": [
    {
     "data": {
      "text/plain": [
       "['decay',\n",
       " 'cbnewsjcbattcom',\n",
       " 'deankaflowitz',\n",
       " 'subject',\n",
       " 'bible',\n",
       " 'quiz',\n",
       " 'answers',\n",
       " 'organization',\n",
       " 'distribution',\n",
       " 'na',\n",
       " 'lines',\n",
       " '0',\n",
       " 'article',\n",
       " '0',\n",
       " 'saturnwwcedu',\n",
       " 'healta',\n",
       " 'saturnwwcedu',\n",
       " 'tammy',\n",
       " 'healy',\n",
       " 'writes',\n",
       " '0',\n",
       " 'cheribums',\n",
       " 'ark',\n",
       " 'covenant',\n",
       " 'god',\n",
       " 'said',\n",
       " 'make',\n",
       " 'graven',\n",
       " 'image',\n",
       " 'refering',\n",
       " 'idols',\n",
       " 'created',\n",
       " 'worshipped',\n",
       " 'ark',\n",
       " 'covenant',\n",
       " 'nt',\n",
       " 'wrodhipped',\n",
       " 'high',\n",
       " 'priest',\n",
       " 'could',\n",
       " 'enter',\n",
       " 'holy',\n",
       " 'holies',\n",
       " 'kept',\n",
       " 'year',\n",
       " 'day',\n",
       " 'atonement',\n",
       " 'familiar',\n",
       " 'knowledgeable',\n",
       " 'original',\n",
       " 'language',\n",
       " 'believe',\n",
       " 'word',\n",
       " '',\n",
       " 'idol',\n",
       " '',\n",
       " 'translator',\n",
       " 'would',\n",
       " 'used',\n",
       " 'word',\n",
       " '',\n",
       " 'idol',\n",
       " '',\n",
       " 'instead',\n",
       " '',\n",
       " 'graven',\n",
       " 'image',\n",
       " '',\n",
       " 'original',\n",
       " 'said',\n",
       " '',\n",
       " 'idol',\n",
       " '',\n",
       " 'think',\n",
       " 're',\n",
       " 'wrong',\n",
       " 'could',\n",
       " 'suggesting',\n",
       " 'way',\n",
       " 'determine',\n",
       " 'whether',\n",
       " 'interpretation',\n",
       " 'offer',\n",
       " 'correct',\n",
       " 'dean',\n",
       " 'kaflowitz']"
      ]
     },
     "execution_count": 14,
     "metadata": {},
     "output_type": "execute_result"
    }
   ],
   "source": [
    "X_test = []\n",
    "for folder in test_data:\n",
    "    for doc in test_data[folder]:\n",
    "        tokenized_doc = word_tokenize(doc)\n",
    "        newdoc = []\n",
    "        for word in tokenized_doc:\n",
    "             if len(word) < 21 and len(word) > 1:\n",
    "                if any(c.isdigit() for c in word): #or c == \"_\" \n",
    "                    newdoc.append('0')\n",
    "                    continue\n",
    "                if word.lower() not in stopwords:\n",
    "                    newword = re.sub(r'[^A-Za-z]+', '', word.lower())\n",
    "                    newdoc.append(newword.lower())\n",
    "        X_test.append(newdoc)\n",
    "X_test[0]"
   ]
  },
  {
   "cell_type": "code",
   "execution_count": null,
   "metadata": {},
   "outputs": [],
   "source": []
  },
  {
   "cell_type": "code",
   "execution_count": null,
   "metadata": {},
   "outputs": [],
   "source": []
  },
  {
   "cell_type": "code",
   "execution_count": 15,
   "metadata": {
    "scrolled": true
   },
   "outputs": [],
   "source": [
    "X_train_combine = []\n",
    "for doc in X_train:\n",
    "    X_train_combine.append(' '.join(doc))\n"
   ]
  },
  {
   "cell_type": "code",
   "execution_count": null,
   "metadata": {},
   "outputs": [],
   "source": []
  },
  {
   "cell_type": "code",
   "execution_count": 16,
   "metadata": {},
   "outputs": [],
   "source": [
    "X_test_combine = []\n",
    "for doc in X_test:\n",
    "    X_test_combine.append(' '.join(doc))\n"
   ]
  },
  {
   "cell_type": "code",
   "execution_count": 17,
   "metadata": {},
   "outputs": [
    {
     "name": "stdout",
     "output_type": "stream",
     "text": [
      "11314\n"
     ]
    }
   ],
   "source": [
    "X_train = X_train_combine\n",
    "print(len(X_train))"
   ]
  },
  {
   "cell_type": "code",
   "execution_count": 18,
   "metadata": {},
   "outputs": [
    {
     "name": "stdout",
     "output_type": "stream",
     "text": [
      "11314\n"
     ]
    }
   ],
   "source": [
    "print(len(Y_train))"
   ]
  },
  {
   "cell_type": "code",
   "execution_count": 19,
   "metadata": {},
   "outputs": [
    {
     "name": "stdout",
     "output_type": "stream",
     "text": [
      "7532\n"
     ]
    }
   ],
   "source": [
    "X_test = X_test_combine\n",
    "print(len(X_test))"
   ]
  },
  {
   "cell_type": "code",
   "execution_count": 20,
   "metadata": {},
   "outputs": [
    {
     "name": "stdout",
     "output_type": "stream",
     "text": [
      "7532\n"
     ]
    }
   ],
   "source": [
    "print(len(Y_test))"
   ]
  },
  {
   "cell_type": "code",
   "execution_count": 21,
   "metadata": {},
   "outputs": [],
   "source": [
    "from sklearn.feature_extraction.text import TfidfVectorizer\n",
    "tfidf_vec = TfidfVectorizer(ngram_range = (1, 3))\n"
   ]
  },
  {
   "cell_type": "code",
   "execution_count": 22,
   "metadata": {},
   "outputs": [],
   "source": [
    "from sklearn.pipeline import Pipeline\n"
   ]
  },
  {
   "cell_type": "code",
   "execution_count": 23,
   "metadata": {},
   "outputs": [],
   "source": [
    "# X_train_vector = vectorizer.fit_transform(X_train)\n"
   ]
  },
  {
   "cell_type": "code",
   "execution_count": 24,
   "metadata": {},
   "outputs": [],
   "source": [
    "# print(len(vectorizer.get_feature_names()))"
   ]
  },
  {
   "cell_type": "code",
   "execution_count": 25,
   "metadata": {},
   "outputs": [],
   "source": [
    "# X_test_vector = vectorizer.fit_transform(X_test)"
   ]
  },
  {
   "cell_type": "code",
   "execution_count": 26,
   "metadata": {},
   "outputs": [],
   "source": [
    "# print(len(vectorizer.get_feature_names()))"
   ]
  },
  {
   "cell_type": "code",
   "execution_count": 27,
   "metadata": {},
   "outputs": [],
   "source": [
    "# X_train_vector"
   ]
  },
  {
   "cell_type": "code",
   "execution_count": 28,
   "metadata": {
    "scrolled": false
   },
   "outputs": [],
   "source": [
    "# X_test_vector"
   ]
  },
  {
   "cell_type": "code",
   "execution_count": 29,
   "metadata": {},
   "outputs": [],
   "source": [
    "# X_train_vector = X_train_vector.toarray()\n",
    "# X_test_vector = X_test_vector.toarray()"
   ]
  },
  {
   "cell_type": "code",
   "execution_count": 30,
   "metadata": {},
   "outputs": [],
   "source": [
    "# from sklearn import preprocessing\n"
   ]
  },
  {
   "cell_type": "code",
   "execution_count": 31,
   "metadata": {},
   "outputs": [],
   "source": [
    "# label_train = preprocessing.LabelEncoder()\n",
    "# label_test = preprocessing.LabelEncoder()\n",
    "# Y_train = label_train.fit_transform(Y_train)\n",
    "# Y_test = label_test.fit_transform(Y_test)"
   ]
  },
  {
   "cell_type": "code",
   "execution_count": 32,
   "metadata": {},
   "outputs": [],
   "source": [
    "# print(len(Y_train))"
   ]
  },
  {
   "cell_type": "code",
   "execution_count": 33,
   "metadata": {},
   "outputs": [],
   "source": [
    "from sklearn.naive_bayes import MultinomialNB\n"
   ]
  },
  {
   "cell_type": "code",
   "execution_count": 34,
   "metadata": {
    "scrolled": true
   },
   "outputs": [
    {
     "data": {
      "text/plain": [
       "Pipeline(steps=[('tfidf', TfidfVectorizer(ngram_range=(1, 3))),\n",
       "                ('nbclf', MultinomialNB())])"
      ]
     },
     "execution_count": 34,
     "metadata": {},
     "output_type": "execute_result"
    }
   ],
   "source": [
    "pclf = Pipeline([\n",
    "    ('tfidf',tfidf_vec),\n",
    "    ('nbclf', MultinomialNB())\n",
    "])\n",
    "pclf.fit(X_train, Y_train)"
   ]
  },
  {
   "cell_type": "code",
   "execution_count": 35,
   "metadata": {},
   "outputs": [],
   "source": [
    "Y_pred = pclf.predict(X_test)"
   ]
  },
  {
   "cell_type": "code",
   "execution_count": 36,
   "metadata": {},
   "outputs": [],
   "source": [
    "# clf_NB = MultinomialNB()"
   ]
  },
  {
   "cell_type": "code",
   "execution_count": 37,
   "metadata": {},
   "outputs": [],
   "source": [
    "# clf_NB.fit(X_train_vector, Y_train)\n",
    "# Y_pred = clf_NB.predict(X_test_vector)"
   ]
  },
  {
   "cell_type": "code",
   "execution_count": 38,
   "metadata": {},
   "outputs": [
    {
     "name": "stdout",
     "output_type": "stream",
     "text": [
      "                          precision    recall  f1-score   support\n",
      "\n",
      "             alt.atheism       0.69      0.83      0.76       265\n",
      "           comp.graphics       0.70      0.76      0.73       356\n",
      " comp.os.ms-windows.misc       0.72      0.77      0.74       365\n",
      "comp.sys.ibm.pc.hardware       0.80      0.65      0.72       481\n",
      "   comp.sys.mac.hardware       0.78      0.86      0.82       347\n",
      "          comp.windows.x       0.79      0.86      0.83       364\n",
      "            misc.forsale       0.81      0.85      0.83       371\n",
      "               rec.autos       0.91      0.90      0.90       402\n",
      "         rec.motorcycles       0.95      0.95      0.95       396\n",
      "      rec.sport.baseball       0.92      0.91      0.91       404\n",
      "        rec.sport.hockey       0.98      0.88      0.93       443\n",
      "               sci.crypt       0.95      0.74      0.83       514\n",
      "         sci.electronics       0.67      0.85      0.75       311\n",
      "                 sci.med       0.80      0.88      0.84       361\n",
      "               sci.space       0.93      0.87      0.90       423\n",
      "  soc.religion.christian       0.96      0.66      0.78       586\n",
      "      talk.politics.guns       0.94      0.71      0.81       481\n",
      "   talk.politics.mideast       0.97      0.92      0.94       397\n",
      "      talk.politics.misc       0.56      0.95      0.71       183\n",
      "      talk.religion.misc       0.31      0.95      0.47        82\n",
      "\n",
      "                accuracy                           0.82      7532\n",
      "               macro avg       0.81      0.84      0.81      7532\n",
      "            weighted avg       0.85      0.82      0.83      7532\n",
      "\n"
     ]
    }
   ],
   "source": [
    "from sklearn.metrics import classification_report,confusion_matrix\n",
    "print(classification_report(Y_pred,Y_test))\n"
   ]
  },
  {
   "cell_type": "code",
   "execution_count": 39,
   "metadata": {},
   "outputs": [],
   "source": [
    "from sklearn.linear_model import SGDClassifier\n"
   ]
  },
  {
   "cell_type": "code",
   "execution_count": 40,
   "metadata": {},
   "outputs": [
    {
     "data": {
      "text/plain": [
       "Pipeline(steps=[('tfidf', TfidfVectorizer(ngram_range=(1, 3))),\n",
       "                ('clf', SGDClassifier(max_iter=10000))])"
      ]
     },
     "execution_count": 40,
     "metadata": {},
     "output_type": "execute_result"
    }
   ],
   "source": [
    "pclf = Pipeline([\n",
    "    ('tfidf',tfidf_vec),\n",
    "    ('clf', SGDClassifier(max_iter = 10000))\n",
    "])\n",
    "pclf.fit(X_train, Y_train)"
   ]
  },
  {
   "cell_type": "code",
   "execution_count": 41,
   "metadata": {},
   "outputs": [],
   "source": [
    "Y_pred = pclf.predict(X_test)"
   ]
  },
  {
   "cell_type": "code",
   "execution_count": 42,
   "metadata": {},
   "outputs": [
    {
     "name": "stdout",
     "output_type": "stream",
     "text": [
      "                          precision    recall  f1-score   support\n",
      "\n",
      "             alt.atheism       0.76      0.81      0.79       301\n",
      "           comp.graphics       0.76      0.74      0.75       398\n",
      " comp.os.ms-windows.misc       0.78      0.75      0.76       407\n",
      "comp.sys.ibm.pc.hardware       0.76      0.75      0.75       398\n",
      "   comp.sys.mac.hardware       0.85      0.85      0.85       384\n",
      "          comp.windows.x       0.76      0.90      0.82       335\n",
      "            misc.forsale       0.92      0.82      0.87       434\n",
      "               rec.autos       0.91      0.94      0.93       383\n",
      "         rec.motorcycles       0.96      0.96      0.96       399\n",
      "      rec.sport.baseball       0.95      0.92      0.93       413\n",
      "        rec.sport.hockey       0.98      0.94      0.96       418\n",
      "               sci.crypt       0.95      0.92      0.93       412\n",
      "         sci.electronics       0.80      0.84      0.82       373\n",
      "                 sci.med       0.87      0.90      0.89       385\n",
      "               sci.space       0.94      0.89      0.92       417\n",
      "  soc.religion.christian       0.95      0.84      0.89       451\n",
      "      talk.politics.guns       0.95      0.76      0.84       452\n",
      "   talk.politics.mideast       0.91      0.98      0.94       347\n",
      "      talk.politics.misc       0.65      0.87      0.74       230\n",
      "      talk.religion.misc       0.61      0.78      0.69       195\n",
      "\n",
      "                accuracy                           0.86      7532\n",
      "               macro avg       0.85      0.86      0.85      7532\n",
      "            weighted avg       0.87      0.86      0.86      7532\n",
      "\n"
     ]
    }
   ],
   "source": [
    "print(classification_report(Y_pred,Y_test))\n"
   ]
  },
  {
   "cell_type": "code",
   "execution_count": null,
   "metadata": {},
   "outputs": [],
   "source": []
  },
  {
   "cell_type": "code",
   "execution_count": null,
   "metadata": {},
   "outputs": [],
   "source": []
  },
  {
   "cell_type": "code",
   "execution_count": null,
   "metadata": {},
   "outputs": [],
   "source": []
  },
  {
   "cell_type": "code",
   "execution_count": null,
   "metadata": {},
   "outputs": [],
   "source": []
  }
 ],
 "metadata": {
  "kernelspec": {
   "display_name": "Python 3",
   "language": "python",
   "name": "python3"
  },
  "language_info": {
   "codemirror_mode": {
    "name": "ipython",
    "version": 3
   },
   "file_extension": ".py",
   "mimetype": "text/x-python",
   "name": "python",
   "nbconvert_exporter": "python",
   "pygments_lexer": "ipython3",
   "version": "3.8.5"
  }
 },
 "nbformat": 4,
 "nbformat_minor": 4
}
