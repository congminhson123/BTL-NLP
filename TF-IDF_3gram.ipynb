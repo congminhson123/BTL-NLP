{
 "cells": [
  {
   "cell_type": "code",
   "execution_count": 1,
   "metadata": {},
   "outputs": [],
   "source": [
    "import pandas as pd\n",
    "import numpy as np\n",
    "import os\n",
    "import nltk\n",
    "import matplotlib.pyplot as plt\n",
    "from string import punctuation\n",
    "from nltk.tokenize import word_tokenize\n",
    "from sklearn.datasets import load_files\n",
    "import re"
   ]
  },
  {
   "cell_type": "code",
   "execution_count": 2,
   "metadata": {},
   "outputs": [],
   "source": [
    "train_path = r\"C:\\Users\\htc\\Desktop\\NLP\\BTL-NLP\\20news-bydate-train\"\n",
    "test_path = r\"C:\\Users\\htc\\Desktop\\NLP\\BTL-NLP\\20news-bydate-test\""
   ]
  },
  {
   "cell_type": "code",
   "execution_count": 3,
   "metadata": {},
   "outputs": [
    {
     "data": {
      "text/plain": [
       "['alt.atheism',\n",
       " 'comp.graphics',\n",
       " 'comp.os.ms-windows.misc',\n",
       " 'comp.sys.ibm.pc.hardware',\n",
       " 'comp.sys.mac.hardware',\n",
       " 'comp.windows.x',\n",
       " 'misc.forsale',\n",
       " 'rec.autos',\n",
       " 'rec.motorcycles',\n",
       " 'rec.sport.baseball',\n",
       " 'rec.sport.hockey',\n",
       " 'sci.crypt',\n",
       " 'sci.electronics',\n",
       " 'sci.med',\n",
       " 'sci.space',\n",
       " 'soc.religion.christian',\n",
       " 'talk.politics.guns',\n",
       " 'talk.politics.mideast',\n",
       " 'talk.politics.misc',\n",
       " 'talk.religion.misc']"
      ]
     },
     "execution_count": 3,
     "metadata": {},
     "output_type": "execute_result"
    }
   ],
   "source": [
    "folders = sorted(os.listdir(train_path))\n",
    "folders"
   ]
  },
  {
   "cell_type": "markdown",
   "metadata": {},
   "source": [
    "# Import Data\n"
   ]
  },
  {
   "cell_type": "code",
   "execution_count": 4,
   "metadata": {},
   "outputs": [],
   "source": [
    "train_data = {}\n",
    "for folder in folders: \n",
    "    train_data[folder] = []\n",
    "    for doc in os.listdir(os.path.join(train_path, folder)):\n",
    "        with open(os.path.join(train_path, folder, doc), encoding = 'latin-1') as opened_file:\n",
    "            train_data[folder].append(opened_file.read())\n"
   ]
  },
  {
   "cell_type": "code",
   "execution_count": 5,
   "metadata": {},
   "outputs": [],
   "source": [
    "test_data = {}\n",
    "for folder in folders: \n",
    "    test_data[folder] = []\n",
    "    for doc in os.listdir(os.path.join(test_path, folder)):\n",
    "        with open(os.path.join(test_path, folder, doc), encoding = 'latin-1') as opened_file:\n",
    "            test_data[folder].append(opened_file.read())\n"
   ]
  },
  {
   "cell_type": "code",
   "execution_count": 6,
   "metadata": {},
   "outputs": [],
   "source": [
    "punctuations=list(punctuation)\n",
    "stopwords = list(line.strip() for line in open(r\"C:\\Users\\htc\\Desktop\\NLP\\BTL-NLP\\nltk_data\\corpora\\stopwords\\english\",encoding=\"utf8\"))\n",
    "\n",
    "for item in punctuations:\n",
    "    stopwords.append(item)"
   ]
  },
  {
   "cell_type": "code",
   "execution_count": 7,
   "metadata": {},
   "outputs": [
    {
     "name": "stdout",
     "output_type": "stream",
     "text": [
      "['i', 'me', 'my', 'myself', 'we', 'our', 'ours', 'ourselves', 'you', \"you're\", \"you've\", \"you'll\", \"you'd\", 'your', 'yours', 'yourself', 'yourselves', 'he', 'him', 'his', 'himself', 'she', \"she's\", 'her', 'hers', 'herself', 'it', \"it's\", 'its', 'itself', 'they', 'them', 'their', 'theirs', 'themselves', 'what', 'which', 'who', 'whom', 'this', 'that', \"that'll\", 'these', 'those', 'am', 'is', 'are', 'was', 'were', 'be', 'been', 'being', 'have', 'has', 'had', 'having', 'do', 'does', 'did', 'doing', 'a', 'an', 'the', 'and', 'but', 'if', 'or', 'because', 'as', 'until', 'while', 'of', 'at', 'by', 'for', 'with', 'about', 'against', 'between', 'into', 'through', 'during', 'before', 'after', 'above', 'below', 'to', 'from', 'up', 'down', 'in', 'out', 'on', 'off', 'over', 'under', 'again', 'further', 'then', 'once', 'here', 'there', 'when', 'where', 'why', 'how', 'all', 'any', 'both', 'each', 'few', 'more', 'most', 'other', 'some', 'such', 'no', 'nor', 'not', 'only', 'own', 'same', 'so', 'than', 'too', 'very', 's', 't', 'can', 'will', 'just', 'don', \"don't\", 'should', \"should've\", 'now', 'd', 'll', 'm', 'o', 're', 've', 'y', 'ain', 'aren', \"aren't\", 'couldn', \"couldn't\", 'didn', \"didn't\", 'doesn', \"doesn't\", 'hadn', \"hadn't\", 'hasn', \"hasn't\", 'haven', \"haven't\", 'isn', \"isn't\", 'ma', 'mightn', \"mightn't\", 'mustn', \"mustn't\", 'needn', \"needn't\", 'shan', \"shan't\", 'shouldn', \"shouldn't\", 'wasn', \"wasn't\", 'weren', \"weren't\", 'won', \"won't\", 'wouldn', \"wouldn't\", '!', '\"', '#', '$', '%', '&', \"'\", '(', ')', '*', '+', ',', '-', '.', '/', ':', ';', '<', '=', '>', '?', '@', '[', '\\\\', ']', '^', '_', '`', '{', '|', '}', '~', ['subject:', 'from:', 'date:', 'newsgroups:', 'message-id:', 'lines:', 'path:', 'organization:', 'would', 'writes:', 'references:', 'article', 'sender:', 'nntp-posting-host:', 'people', 'university', 'think', 'xref:', 'cantaloupe.srv.cs.cmu.edu', 'could', 'distribution:', 'first', 'anyone', 'world', 'really', 'since', 'right', 'believe', 'still']]\n"
     ]
    }
   ],
   "source": [
    "new_stopwords = ['subject:','from:', 'date:', 'newsgroups:', 'message-id:', 'lines:', 'path:', 'organization:', \n",
    "            'would', 'writes:', 'references:', 'article', 'sender:', 'nntp-posting-host:', 'people', \n",
    "            'university', 'think', 'xref:', 'cantaloupe.srv.cs.cmu.edu', 'could', 'distribution:', 'first', \n",
    "            'anyone','world', 'really', 'since', 'right', 'believe', 'still']\n",
    "stopwords.append(new_stopwords)\n",
    "print(stopwords)"
   ]
  },
  {
   "cell_type": "code",
   "execution_count": 8,
   "metadata": {},
   "outputs": [],
   "source": [
    "Y_train = []\n",
    "for i in range(len(train_data)):\n",
    "    for doc in train_data[folders[i]]:\n",
    "        Y_train.append(folders[i])\n",
    "\n",
    "Y_train = np.array(Y_train)"
   ]
  },
  {
   "cell_type": "code",
   "execution_count": 9,
   "metadata": {},
   "outputs": [],
   "source": [
    "Y_test = []\n",
    "for i in range(len(test_data)):\n",
    "    for doc in test_data[folders[i]]:\n",
    "        Y_test.append(folders[i])\n",
    "\n",
    "Y_test = np.array(Y_test)"
   ]
  },
  {
   "cell_type": "code",
   "execution_count": 10,
   "metadata": {},
   "outputs": [],
   "source": [
    "X_train = []\n",
    "for folder in train_data:\n",
    "    for doc in train_data[folder]:\n",
    "        tokenized_doc = word_tokenize(doc)\n",
    "        newdoc = []\n",
    "        for word in tokenized_doc:\n",
    "             if len(word) < 21 and len(word) > 1:\n",
    "                if any(c.isdigit() for c in word): #or c == \"_\"\n",
    "                    newdoc.append('0')\n",
    "                    continue\n",
    "                if word.lower() not in stopwords:\n",
    "                    newword = re.sub(r'[^A-Za-z]+', '', word.lower())\n",
    "                    newdoc.append(newword.lower())\n",
    "        X_train.append(newdoc)"
   ]
  },
  {
   "cell_type": "code",
   "execution_count": 11,
   "metadata": {},
   "outputs": [],
   "source": [
    "X_test = []\n",
    "for folder in test_data:\n",
    "    for doc in test_data[folder]:\n",
    "        tokenized_doc = word_tokenize(doc)\n",
    "        newdoc = []\n",
    "        for word in tokenized_doc:\n",
    "             if len(word) < 21 and len(word) > 1:\n",
    "                if any(c.isdigit() for c in word): #or c == \"_\" \n",
    "                    newdoc.append('0')\n",
    "                    continue\n",
    "                if word.lower() not in stopwords:\n",
    "                    newword = re.sub(r'[^A-Za-z]+', '', word.lower())\n",
    "                    newdoc.append(newword.lower())\n",
    "        X_test.append(newdoc)\n"
   ]
  },
  {
   "cell_type": "code",
   "execution_count": 12,
   "metadata": {
    "scrolled": true
   },
   "outputs": [],
   "source": [
    "X_train_combine = []\n",
    "for doc in X_train:\n",
    "    X_train_combine.append(' '.join(doc))"
   ]
  },
  {
   "cell_type": "code",
   "execution_count": 13,
   "metadata": {},
   "outputs": [],
   "source": [
    "X_test_combine = []\n",
    "for doc in X_test:\n",
    "    X_test_combine.append(' '.join(doc))"
   ]
  },
  {
   "cell_type": "code",
   "execution_count": 14,
   "metadata": {},
   "outputs": [],
   "source": [
    "X_train = X_train_combine\n",
    "X_test = X_test_combine"
   ]
  },
  {
   "cell_type": "markdown",
   "metadata": {},
   "source": [
    "# Classification Models"
   ]
  },
  {
   "cell_type": "code",
   "execution_count": 15,
   "metadata": {},
   "outputs": [],
   "source": [
    "import scikitplot as skplt\n",
    "import time\n",
    "from sklearn.feature_extraction.text import TfidfVectorizer\n",
    "from sklearn.pipeline import Pipeline\n",
    "from sklearn.naive_bayes import MultinomialNB\n",
    "from sklearn.metrics import classification_report,confusion_matrix\n",
    "from sklearn.linear_model import SGDClassifier\n",
    "from sklearn.model_selection import GridSearchCV\n",
    "from sklearn.neighbors import KNeighborsClassifier\n",
    "from sklearn.model_selection import cross_val_score\n",
    "from sklearn.svm import LinearSVC"
   ]
  },
  {
   "cell_type": "code",
   "execution_count": 16,
   "metadata": {},
   "outputs": [],
   "source": [
    "tfidf_vec = TfidfVectorizer(stop_words='english',sublinear_tf=True,ngram_range=(1, 3))\n",
    "# Caculate accuracy of model\n",
    "def acc_score(model):\n",
    "    return np.mean(cross_val_score(model,X_train,Y_train,scoring=\"accuracy\"))"
   ]
  },
  {
   "cell_type": "code",
   "execution_count": 17,
   "metadata": {},
   "outputs": [],
   "source": [
    "KNNparams = {\n",
    "       'knnclf__n_neighbors': (5, 10, 100),\n",
    "       'knnclf__weights': ('uniform', 'distance')\n",
    "}\n",
    "MNBparams = {\n",
    "    'nbclf__alpha': (0.001, 0.01, 0.1, 0, 10)\n",
    "}"
   ]
  },
  {
   "cell_type": "markdown",
   "metadata": {},
   "source": [
    "## Multinomial NB Model"
   ]
  },
  {
   "cell_type": "code",
   "execution_count": 18,
   "metadata": {
    "scrolled": true
   },
   "outputs": [
    {
     "name": "stdout",
     "output_type": "stream",
     "text": [
      "Accuracy: 0.8845674056136215, Time duration: 17.640625\n"
     ]
    }
   ],
   "source": [
    "# Too long\n",
    "#MNB_Pipeline = Pipeline([\n",
    "#    ('cvec',vectorizer),\n",
    "#    ('nbclf', MultinomialNB())])\n",
    "#MNB=GridSearchCV(MNB_Pipeline, MNBparams)\n",
    "#MNB.fit(X_train, Y_train)\n",
    "\n",
    "MNB = Pipeline([\n",
    "    ('tfidf',tfidf_vec), \n",
    "    ('nbclf', MultinomialNB(alpha=0.01))\n",
    "])\n",
    "start = time.process_time()\n",
    "MNB.fit(X_train, Y_train)\n",
    "end = time.process_time()\n",
    "print(\"Accuracy: \" + str(acc_score(MNB)) + \", Time duration: \" + str(end - start))"
   ]
  },
  {
   "cell_type": "code",
   "execution_count": 19,
   "metadata": {
    "scrolled": true
   },
   "outputs": [
    {
     "name": "stdout",
     "output_type": "stream",
     "text": [
      "                          precision    recall  f1-score   support\n",
      "\n",
      "             alt.atheism       0.83      0.87      0.85       305\n",
      "           comp.graphics       0.69      0.70      0.69       380\n",
      " comp.os.ms-windows.misc       0.64      0.74      0.69       338\n",
      "comp.sys.ibm.pc.hardware       0.75      0.64      0.69       455\n",
      "   comp.sys.mac.hardware       0.78      0.80      0.79       375\n",
      "          comp.windows.x       0.79      0.81      0.80       387\n",
      "            misc.forsale       0.82      0.82      0.82       391\n",
      "               rec.autos       0.88      0.89      0.88       393\n",
      "         rec.motorcycles       0.95      0.93      0.94       410\n",
      "      rec.sport.baseball       0.92      0.92      0.92       397\n",
      "        rec.sport.hockey       0.95      0.92      0.94       411\n",
      "               sci.crypt       0.92      0.86      0.89       421\n",
      "         sci.electronics       0.78      0.79      0.78       388\n",
      "                 sci.med       0.79      0.86      0.82       366\n",
      "               sci.space       0.90      0.85      0.88       417\n",
      "  soc.religion.christian       0.94      0.85      0.89       441\n",
      "      talk.politics.guns       0.91      0.78      0.84       427\n",
      "   talk.politics.mideast       0.94      0.95      0.95       372\n",
      "      talk.politics.misc       0.69      0.85      0.76       253\n",
      "      talk.religion.misc       0.64      0.78      0.70       205\n",
      "\n",
      "                accuracy                           0.83      7532\n",
      "               macro avg       0.83      0.83      0.83      7532\n",
      "            weighted avg       0.84      0.83      0.83      7532\n",
      "\n"
     ]
    }
   ],
   "source": [
    "Y_pred = MNB.predict(X_test)\n",
    "print(classification_report(Y_pred,Y_test))"
   ]
  },
  {
   "cell_type": "markdown",
   "metadata": {},
   "source": [
    "## SGD Classifier Model"
   ]
  },
  {
   "cell_type": "code",
   "execution_count": 20,
   "metadata": {},
   "outputs": [
    {
     "name": "stdout",
     "output_type": "stream",
     "text": [
      "Accuracy: 0.9084317625680175, Time duration: 28.28125\n"
     ]
    }
   ],
   "source": [
    "SGDC = Pipeline([\n",
    "    ('tfidf',tfidf_vec),\n",
    "    ('SGDclf', SGDClassifier(max_iter = 10000))\n",
    "])\n",
    "start = time.process_time()\n",
    "SGDC.fit(X_train, Y_train)\n",
    "end = time.process_time()\n",
    "print(\"Accuracy: \" + str(acc_score(SGDC)) + \", Time duration: \" + str(end - start))"
   ]
  },
  {
   "cell_type": "code",
   "execution_count": 21,
   "metadata": {
    "scrolled": false
   },
   "outputs": [
    {
     "name": "stdout",
     "output_type": "stream",
     "text": [
      "                          precision    recall  f1-score   support\n",
      "\n",
      "             alt.atheism       0.77      0.83      0.80       296\n",
      "           comp.graphics       0.76      0.77      0.76       382\n",
      " comp.os.ms-windows.misc       0.81      0.77      0.79       417\n",
      "comp.sys.ibm.pc.hardware       0.77      0.77      0.77       392\n",
      "   comp.sys.mac.hardware       0.85      0.87      0.86       379\n",
      "          comp.windows.x       0.79      0.89      0.84       351\n",
      "            misc.forsale       0.94      0.83      0.88       441\n",
      "               rec.autos       0.91      0.94      0.93       385\n",
      "         rec.motorcycles       0.96      0.97      0.97       394\n",
      "      rec.sport.baseball       0.95      0.93      0.94       407\n",
      "        rec.sport.hockey       0.98      0.94      0.96       420\n",
      "               sci.crypt       0.96      0.92      0.94       414\n",
      "         sci.electronics       0.80      0.84      0.82       372\n",
      "                 sci.med       0.87      0.91      0.89       380\n",
      "               sci.space       0.93      0.89      0.91       414\n",
      "  soc.religion.christian       0.95      0.83      0.89       454\n",
      "      talk.politics.guns       0.94      0.76      0.84       451\n",
      "   talk.politics.mideast       0.92      0.98      0.95       352\n",
      "      talk.politics.misc       0.66      0.88      0.76       233\n",
      "      talk.religion.misc       0.63      0.80      0.71       198\n",
      "\n",
      "                accuracy                           0.87      7532\n",
      "               macro avg       0.86      0.87      0.86      7532\n",
      "            weighted avg       0.87      0.87      0.87      7532\n",
      "\n"
     ]
    }
   ],
   "source": [
    "Y_pred = SGDC.predict(X_test)\n",
    "print(classification_report(Y_pred,Y_test))"
   ]
  },
  {
   "cell_type": "markdown",
   "metadata": {},
   "source": [
    "## LinearSVC"
   ]
  },
  {
   "cell_type": "code",
   "execution_count": 22,
   "metadata": {},
   "outputs": [
    {
     "name": "stdout",
     "output_type": "stream",
     "text": [
      "Accuracy: 0.9114370531515913, Time duration: 106.515625\n"
     ]
    }
   ],
   "source": [
    "SVC = Pipeline([\n",
    "    ('tfidf',tfidf_vec),\n",
    "    ('SVCclf', LinearSVC(C=10))\n",
    "])\n",
    "start = time.process_time()\n",
    "SVC.fit(X_train, Y_train)\n",
    "end = time.process_time()\n",
    "print(\"Accuracy: \" + str(acc_score(SVC)) + \", Time duration: \" + str(end - start))"
   ]
  },
  {
   "cell_type": "code",
   "execution_count": 23,
   "metadata": {},
   "outputs": [
    {
     "name": "stdout",
     "output_type": "stream",
     "text": [
      "                          precision    recall  f1-score   support\n",
      "\n",
      "             alt.atheism       0.78      0.84      0.81       297\n",
      "           comp.graphics       0.78      0.76      0.77       399\n",
      " comp.os.ms-windows.misc       0.80      0.78      0.79       404\n",
      "comp.sys.ibm.pc.hardware       0.79      0.74      0.77       417\n",
      "   comp.sys.mac.hardware       0.87      0.85      0.86       394\n",
      "          comp.windows.x       0.78      0.89      0.83       346\n",
      "            misc.forsale       0.93      0.83      0.88       436\n",
      "               rec.autos       0.91      0.95      0.93       381\n",
      "         rec.motorcycles       0.96      0.97      0.97       393\n",
      "      rec.sport.baseball       0.96      0.93      0.94       410\n",
      "        rec.sport.hockey       0.98      0.96      0.97       407\n",
      "               sci.crypt       0.95      0.93      0.94       408\n",
      "         sci.electronics       0.81      0.84      0.83       378\n",
      "                 sci.med       0.87      0.91      0.89       375\n",
      "               sci.space       0.93      0.90      0.92       405\n",
      "  soc.religion.christian       0.95      0.86      0.90       441\n",
      "      talk.politics.guns       0.94      0.76      0.84       450\n",
      "   talk.politics.mideast       0.91      0.99      0.95       348\n",
      "      talk.politics.misc       0.66      0.87      0.75       234\n",
      "      talk.religion.misc       0.67      0.80      0.73       209\n",
      "\n",
      "                accuracy                           0.87      7532\n",
      "               macro avg       0.86      0.87      0.86      7532\n",
      "            weighted avg       0.87      0.87      0.87      7532\n",
      "\n"
     ]
    }
   ],
   "source": [
    "Y_pred = SVC.predict(X_test)\n",
    "print(classification_report(Y_pred,Y_test))"
   ]
  },
  {
   "cell_type": "markdown",
   "metadata": {},
   "source": [
    "## K Neighbors Classifier Model"
   ]
  },
  {
   "cell_type": "code",
   "execution_count": 24,
   "metadata": {},
   "outputs": [],
   "source": [
    "#KNN_Pipeline = Pipeline([\n",
    "#        ('tfidf',tfidf_vec), \n",
    "#        ('knnclf', KNeighborsClassifier(n_neighbors=100))])\n",
    "\n",
    "#start = time.process_time()\n",
    "#KNN=GridSearchCV(KNN_Pipeline, KNNparams)\n",
    "#KNN.fit(X_train, Y_train)\n",
    "#end = time.process_time()\n",
    "\n",
    "#print(\"Accuracy: \" + str(acc_score(KNN)) + \", Time duration: \" + str(end - start))"
   ]
  },
  {
   "cell_type": "code",
   "execution_count": 25,
   "metadata": {},
   "outputs": [],
   "source": [
    "#Y_pred = KNN.predict(X_test)\n",
    "#print(classification_report(Y_pred,Y_test))"
   ]
  }
 ],
 "metadata": {
  "kernelspec": {
   "display_name": "Python 3",
   "language": "python",
   "name": "python3"
  },
  "language_info": {
   "codemirror_mode": {
    "name": "ipython",
    "version": 3
   },
   "file_extension": ".py",
   "mimetype": "text/x-python",
   "name": "python",
   "nbconvert_exporter": "python",
   "pygments_lexer": "ipython3",
   "version": "3.7.6"
  }
 },
 "nbformat": 4,
 "nbformat_minor": 4
}
